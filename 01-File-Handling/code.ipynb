{
 "cells": [
  {
   "cell_type": "code",
   "execution_count": 1,
   "metadata": {},
   "outputs": [
    {
     "name": "stdout",
     "output_type": "stream",
     "text": [
      "Hello World!\n"
     ]
    }
   ],
   "source": [
    "print(\"Hello World!\")"
   ]
  },
  {
   "cell_type": "code",
   "execution_count": 5,
   "metadata": {},
   "outputs": [
    {
     "data": {
      "text/plain": [
       "array([[[211, 203, 200],\n",
       "        [211, 203, 200],\n",
       "        [210, 202, 200],\n",
       "        ...,\n",
       "        [212, 203, 204],\n",
       "        [212, 203, 204],\n",
       "        [212, 203, 204]],\n",
       "\n",
       "       [[211, 203, 200],\n",
       "        [211, 203, 200],\n",
       "        [210, 202, 200],\n",
       "        ...,\n",
       "        [211, 202, 203],\n",
       "        [211, 202, 203],\n",
       "        [211, 202, 203]],\n",
       "\n",
       "       [[211, 203, 200],\n",
       "        [211, 203, 200],\n",
       "        [210, 202, 200],\n",
       "        ...,\n",
       "        [211, 202, 203],\n",
       "        [211, 202, 203],\n",
       "        [211, 202, 203]],\n",
       "\n",
       "       ...,\n",
       "\n",
       "       [[169, 165, 166],\n",
       "        [166, 162, 163],\n",
       "        [165, 161, 162],\n",
       "        ...,\n",
       "        [183, 177, 177],\n",
       "        [183, 177, 177],\n",
       "        [182, 176, 176]],\n",
       "\n",
       "       [[168, 164, 165],\n",
       "        [166, 162, 163],\n",
       "        [165, 161, 162],\n",
       "        ...,\n",
       "        [182, 176, 176],\n",
       "        [180, 174, 174],\n",
       "        [179, 173, 173]],\n",
       "\n",
       "       [[167, 163, 164],\n",
       "        [166, 162, 163],\n",
       "        [165, 161, 162],\n",
       "        ...,\n",
       "        [181, 175, 175],\n",
       "        [179, 173, 173],\n",
       "        [177, 171, 171]]], dtype=uint8)"
      ]
     },
     "metadata": {},
     "output_type": "display_data"
    }
   ],
   "source": [
    "import matplotlib.pyplot as plt  \n",
    "import matplotlib.image as mpimg \n",
    "\n",
    "\n",
    "img = mpimg.imread(\"./Maaz.jpg\")\n",
    "display(img)"
   ]
  }
 ],
 "metadata": {
  "kernelspec": {
   "display_name": "Python 3",
   "language": "python",
   "name": "python3"
  },
  "language_info": {
   "codemirror_mode": {
    "name": "ipython",
    "version": 3
   },
   "file_extension": ".py",
   "mimetype": "text/x-python",
   "name": "python",
   "nbconvert_exporter": "python",
   "pygments_lexer": "ipython3",
   "version": "3.11.7"
  }
 },
 "nbformat": 4,
 "nbformat_minor": 2
}
